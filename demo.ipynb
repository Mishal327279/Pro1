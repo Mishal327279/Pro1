{
  "nbformat": 4,
  "nbformat_minor": 0,
  "metadata": {
    "colab": {
      "name": "demo.ipynb",
      "provenance": [],
      "authorship_tag": "ABX9TyNWyeCasibVCMh7ZWRTtCGc",
      "include_colab_link": true
    },
    "kernelspec": {
      "name": "python3",
      "display_name": "Python 3"
    },
    "language_info": {
      "name": "python"
    }
  },
  "cells": [
    {
      "cell_type": "markdown",
      "metadata": {
        "id": "view-in-github",
        "colab_type": "text"
      },
      "source": [
        "<a href=\"https://colab.research.google.com/github/Mishal327279/Pro1/blob/main/demo.ipynb\" target=\"_parent\"><img src=\"https://colab.research.google.com/assets/colab-badge.svg\" alt=\"Open In Colab\"/></a>"
      ]
    },
    {
      "cell_type": "markdown",
      "metadata": {
        "id": "KAPuPIzTkizp"
      },
      "source": [
        ""
      ]
    },
    {
      "cell_type": "markdown",
      "metadata": {
        "id": "MS9SdGSVkkLY"
      },
      "source": [
        "## Basic Python\n"
      ]
    },
    {
      "cell_type": "markdown",
      "metadata": {
        "id": "Iw7imAVikxk4"
      },
      "source": [
        "1. Arithmetic"
      ]
    },
    {
      "cell_type": "code",
      "metadata": {
        "id": "cH-b1ZMnk4gA"
      },
      "source": [
        "a=5\n",
        "b=5\n",
        "c=a+b\n",
        "print(c)"
      ],
      "execution_count": null,
      "outputs": []
    },
    {
      "cell_type": "code",
      "metadata": {
        "id": "oWPoL6-Dk7TA"
      },
      "source": [
        "d=a*b\n",
        "print(d)"
      ],
      "execution_count": null,
      "outputs": []
    },
    {
      "cell_type": "code",
      "metadata": {
        "colab": {
          "base_uri": "https://localhost:8080/"
        },
        "id": "5sI6lctQ6Rus",
        "outputId": "71424f1d-df44-4fa8-b50a-a8e9972e138a"
      },
      "source": [
        "a= int(input(\"Enter the value of a: \"))\n",
        "b= int(input(\"Enter the value of b: \"))\n",
        "add= a+b\n",
        "sub= a-b\n",
        "mult=a*b\n",
        "div=a/b\n",
        "mod=a%b\n",
        "print(\"sum:{0}, diff:{1}, mult:{2}, div:{3}, mod:{4},\".format(add,sub,mult,div,mod)) #print using format\n",
        "print(\"sum:%d, diff:%d, mult:%d, div:%25.3f, mod:%d\"%(add,sub,mult,div,mod)) #print using precision and padding\n"
      ],
      "execution_count": 9,
      "outputs": [
        {
          "output_type": "stream",
          "name": "stdout",
          "text": [
            "Enter the value of a: 76\n",
            "Enter the value of b: 56\n",
            "sum:132, diff:20, mult:4256, div:                    1.357, mod:20\n"
          ]
        }
      ]
    },
    {
      "cell_type": "code",
      "metadata": {
        "colab": {
          "base_uri": "https://localhost:8080/"
        },
        "id": "PiC3-Tx06kM7",
        "outputId": "35759185-dbac-44dc-e5bd-c2ec208d73c5"
      },
      "source": [
        "print('{0:<4} | {1:<4} | {2:<4} | {3:>4}'.format('sum','sub','mult','div','mod'))\n",
        "print('{0:<4} | {1:<4} | {2:<4} | {3:>4}'.format(add,sub,mult,div,mod))\n",
        "\n"
      ],
      "execution_count": 10,
      "outputs": [
        {
          "output_type": "stream",
          "name": "stdout",
          "text": [
            "sum  | sub  | mult |  div\n",
            "132  | 20   | 4256 | 1.3571428571428572\n"
          ]
        }
      ]
    },
    {
      "cell_type": "markdown",
      "metadata": {
        "id": "F4wZisUG_ueU"
      },
      "source": [
        "Simple arithmetic (get a power value from users)"
      ]
    },
    {
      "cell_type": "code",
      "metadata": {
        "colab": {
          "base_uri": "https://localhost:8080/"
        },
        "id": "owox5ipW_1oq",
        "outputId": "3139065a-4f04-448e-b593-f93e07ec5e2d"
      },
      "source": [
        "a=2\n",
        "b=3\n",
        "c=a**b\n",
        "print(c)"
      ],
      "execution_count": 11,
      "outputs": [
        {
          "output_type": "stream",
          "name": "stdout",
          "text": [
            "8\n"
          ]
        }
      ]
    },
    {
      "cell_type": "markdown",
      "metadata": {
        "id": "Y69Cc1hkAJwF"
      },
      "source": [
        ""
      ]
    }
  ]
}